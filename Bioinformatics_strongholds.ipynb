{
 "cells": [
  {
   "cell_type": "markdown",
   "id": "a8b487c7",
   "metadata": {},
   "source": [
    "## <span style ='color: green'> Counting DNA Nucleotides</span>\n",
    "\n",
    "### <span style ='color: blue'>Problem</span>\n",
    "A string is simply an ordered collection of symbols selected from some alphabet and formed into a word; the length of a string is the number of symbols that it contains.\n",
    "\n",
    "An example of a length 21 DNA string (whose alphabet contains the symbols 'A', 'C', 'G', and 'T') is \"ATGCTTCAGAAAGGTCTTACG.\"\n",
    "\n",
    "**Given: A DNA string s of length at most 1000 nt**\n",
    "\n",
    "**Return: Four integers (separated by spaces) counting the respective number of times that the symbols 'A', 'C', 'G', and 'T' occur in s**"
   ]
  },
  {
   "cell_type": "markdown",
   "id": "72dbc097",
   "metadata": {},
   "source": [
    "##### Sample Dataset\n",
    "AGCTTTTCATTCTGACTGCAACGGGCAATATGTCTCTGTGTGGATTAAAAAAAGAGTGTCTGATAGCAGC\n",
    "\n",
    "##### Sample Output\n",
    "20 12 17 21"
   ]
  },
  {
   "cell_type": "markdown",
   "id": "1559e10d",
   "metadata": {},
   "source": [
    "### <span style=\"color: blue;\"> Solution</span>"
   ]
  },
  {
   "cell_type": "code",
   "execution_count": 16,
   "id": "910b57f1",
   "metadata": {},
   "outputs": [
    {
     "name": "stdout",
     "output_type": "stream",
     "text": [
      "20 12 17 21 "
     ]
    }
   ],
   "source": [
    "codes=\"AGCTTTTCATTCTGACTGCAACGGGCAATATGTCTCTGTGTGGATTAAAAAAAGAGTGTCTGATAGCAGC\"\n",
    "code_dict={'A':0,'C':0,'G':0,'T':0} #initialize the dictionary\n",
    "for i in codes:\n",
    "    code_dict[i]+=1 #calculate the frequency of each of the nucleotides\n",
    "\n",
    "for values in code_dict.values():\n",
    "    print(values,end=' ') #print the nucleotides in a single line"
   ]
  },
  {
   "cell_type": "code",
   "execution_count": null,
   "id": "118b7ae2",
   "metadata": {},
   "outputs": [],
   "source": []
  },
  {
   "cell_type": "markdown",
   "id": "f4616388",
   "metadata": {},
   "source": [
    "## <span style='color:green'>Transcribing DNA into RNA</span>\n",
    "\n",
    "### <span style ='color:blue'>Problem</span>\n",
    "An RNA string is a string formed from the alphabet containing 'A', 'C', 'G', and 'U'.\n",
    "\n",
    "Given a DNA string t\n",
    " corresponding to a coding strand, its transcribed RNA string u\n",
    " is formed by replacing all occurrences of 'T' in t\n",
    " with 'U' in u.\n",
    "\n",
    "**Given: A DNA string t having length at most 1000 nt**\n",
    "\n",
    "**Return: The transcribed RNA string of t.**"
   ]
  },
  {
   "cell_type": "markdown",
   "id": "8a6f7cff",
   "metadata": {},
   "source": [
    "##### Sample Dataset\n",
    "GATGGAACTTGACTACGTAAATT\n",
    "\n",
    "##### Sample Output\n",
    "GAUGGAACUUGACUACGUAAAUU"
   ]
  },
  {
   "cell_type": "markdown",
   "id": "f349a586",
   "metadata": {},
   "source": [
    "### <span style=\"color: blue;\"> Solution</span>"
   ]
  },
  {
   "cell_type": "code",
   "execution_count": 47,
   "id": "9a2aec87",
   "metadata": {},
   "outputs": [
    {
     "name": "stdout",
     "output_type": "stream",
     "text": [
      "GAUGGAACUUGACUACGUAAAUU\n"
     ]
    }
   ],
   "source": [
    "dna=\"GATGGAACTTGACTACGTAAATT\"\n",
    "rna=[i.replace('T','U') for i in dna] #replace T with U in the dna string\n",
    "print(*rna,sep='') #you can also use ''.join(rna) and it will print the same result"
   ]
  },
  {
   "cell_type": "code",
   "execution_count": null,
   "id": "f6dbf1d8",
   "metadata": {},
   "outputs": [],
   "source": []
  },
  {
   "cell_type": "markdown",
   "id": "a637cd0b",
   "metadata": {},
   "source": [
    "## <span style ='color:green'>Complementing a Strand of DNA</span>\n",
    "\n",
    "### <span style='color:blue'>Problem</span> \n",
    "In DNA strings, symbols 'A' and 'T' are complements of each other, as are 'C' and 'G'.\n",
    "\n",
    "The reverse complement of a DNA string s\n",
    " is the string sc\n",
    " formed by reversing the symbols of s\n",
    ", then taking the complement of each symbol (e.g., the reverse complement of \"GTCA\" is \"TGAC\").\n",
    "\n",
    "**Given: A DNA string s of length at most 1000 bp**.\n",
    "\n",
    "**Return: The reverse complement sc of s.**"
   ]
  },
  {
   "cell_type": "markdown",
   "id": "1e0f5088",
   "metadata": {},
   "source": [
    "##### Sample Dataset\n",
    "AAAACCCGGT\n",
    "\n",
    "##### Sample Output\n",
    "ACCGGGTTTT"
   ]
  },
  {
   "cell_type": "markdown",
   "id": "751b8ca8",
   "metadata": {},
   "source": [
    "### <span style=\"color: blue;\"> Solution</span>"
   ]
  },
  {
   "cell_type": "code",
   "execution_count": 46,
   "id": "e118cdee",
   "metadata": {},
   "outputs": [
    {
     "name": "stdout",
     "output_type": "stream",
     "text": [
      "ACCGGGTTTT\n"
     ]
    }
   ],
   "source": [
    "sample = \"AAAACCCGGT\"\n",
    "complement_template = {'A': 'T', 'C': 'G', 'G': 'C', 'T': 'A'}\n",
    "\n",
    "#the list comprehension below reverses the sample, and returns the complement of each nucleotide\n",
    "reverse_complement = ''.join([complement_template[code] for code in reversed(sample)])\n",
    "\n",
    "print(reverse_complement)"
   ]
  },
  {
   "cell_type": "code",
   "execution_count": null,
   "id": "038e3cb5",
   "metadata": {},
   "outputs": [],
   "source": []
  },
  {
   "cell_type": "markdown",
   "id": "347fd724",
   "metadata": {},
   "source": [
    "## <span style='color:green'>Computing GC Content</span>\n",
    "### <span style ='color:blue'>Problem</span>\n",
    "The GC-content of a DNA string is given by the percentage of symbols in the string that are 'C' or 'G'. For example, the GC-content of \"AGCTATAG\" is 37.5%. Note that the reverse complement of any DNA string has the same GC-content.\n",
    "\n",
    "DNA strings must be labeled when they are consolidated into a database. A commonly used method of string labeling is called FASTA format. In this format, the string is introduced by a line that begins with '>', followed by some labeling information. Subsequent lines contain the string itself; the first line to begin with '>' indicates the label of the next string.\n",
    "\n",
    "In Rosalind's implementation, a string in FASTA format will be labeled by the ID \"Rosalind_xxxx\", where \"xxxx\" denotes a four-digit code between 0000 and 9999.\n",
    "\n",
    "**Given: At most 10 DNA strings in FASTA format (of length at most 1 kbp each)**.\n",
    "\n",
    "**Return: The ID of the string having the highest GC-content, followed by the GC-content of that string. Rosalind allows for a default error of 0.001 in all decimal answers unless otherwise stated; please see the note on absolute error below**"
   ]
  },
  {
   "cell_type": "markdown",
   "id": "77f25ef4",
   "metadata": {},
   "source": [
    "##### Sample Dataset\n",
    ">Rosalind_6404\n",
    "CCTGCGGAAGATCGGCACTAGAATAGCCAGAACCGTTTCTCTGAGGCTTCCGGCCTTCCC\n",
    "TCCCACTAATAATTCTGAGG\n",
    ">Rosalind_5959\n",
    "CCATCGGTAGCGCATCCTTAGTCCAATTAAGTCCCTATCCAGGCGCTCCGCCGAAGGTCT\n",
    "ATATCCATTTGTCAGCAGACACGC\n",
    ">Rosalind_0808\n",
    "CCACCCTCGTGGTATGGCTAGGCATTCAGGAACCGGAGAACGCTTCAGACCAGCCCGGAC\n",
    "TGGGAACCTGCGGGCAGTAGGTGGAAT\n",
    "\n",
    "##### Sample Output\n",
    "Rosalind_0808\n",
    "60.919540"
   ]
  },
  {
   "cell_type": "markdown",
   "id": "24749998",
   "metadata": {},
   "source": [
    "### <span style=\"color: blue;\"> Solution</span>"
   ]
  },
  {
   "cell_type": "code",
   "execution_count": 42,
   "id": "5760360a",
   "metadata": {},
   "outputs": [
    {
     "name": "stdout",
     "output_type": "stream",
     "text": [
      "Rosalind_0808 0.6091954022988506\n"
     ]
    }
   ],
   "source": [
    "sample_dataset={\n",
    "    'Rosalind_6404':'CCTGCGGAAGATCGGCACTAGAATAGCCAGAACCGTTTCTCTGAGGCTTCCGGCCTTCCCTCCCACTAATAATTCTGAGG',\n",
    "    'Rosalind_5959':'CCATCGGTAGCGCATCCTTAGTCCAATTAAGTCCCTATCCAGGCGCTCCGCCGAAGGTCTATATCCATTTGTCAGCAGACACGC',\n",
    "    'Rosalind_0808':'CCACCCTCGTGGTATGGCTAGGCATTCAGGAACCGGAGAACGCTTCAGACCAGCCCGGACTGGGAACCTGCGGGCAGTAGGTGGAAT'\n",
    "}\n",
    "\n",
    "keys=sample_dataset.keys() #gets the keys of the dictionary\n",
    "g_c_content={x:(sample_dataset[x].count('C') + sample_dataset[x].count('G'))/len(sample_dataset[x]) for x in keys}\n",
    "#computes the g + c ratio in the string provided and reads it into a dictionary\n",
    "\n",
    "print(max(g_c_content,key=g_c_content.get), #prints the keys associated with the maximum keys in the g_c ditionary\n",
    "      max(g_c_content.values()))"
   ]
  },
  {
   "cell_type": "markdown",
   "id": "6f4c2f6e",
   "metadata": {},
   "source": [
    "## <span style ='color:green'>Counting Point Mutations</span>\n",
    "### <span style='color:blue'>Problem</span>\n",
    "**Given two strings s and t of equal length, the Hamming distance between s and t denoted dH(s,t) is the number of corresponding symbols that differ in s and t**\n",
    "<img src='https://rosalind.info/media/problems/hamm/Hamming_distance.png' style='height: 50px'/>\n",
    "<img src='https://rosalind.info/media/problems/hamm/point_mutation.png' style='height:300px'/>\n",
    "\n",
    "**Given: Two DNA strings s and t of equal length (not exceeding 1 kbp). Return: The Hamming distance dH(s,t).**"
   ]
  },
  {
   "cell_type": "markdown",
   "id": "8cd37836",
   "metadata": {},
   "source": [
    "##### Sample Dataset\n",
    "GAGCCTACTAACGGGAT\n",
    "\n",
    "CATCGTAATGACGGCCT\n",
    "\n",
    "##### Sample Output\n",
    "7"
   ]
  },
  {
   "cell_type": "markdown",
   "id": "40ca9998",
   "metadata": {},
   "source": [
    "### <span style=\"color: blue;\"> Solution</span>"
   ]
  },
  {
   "cell_type": "code",
   "execution_count": 48,
   "id": "1ace7150",
   "metadata": {},
   "outputs": [
    {
     "name": "stdout",
     "output_type": "stream",
     "text": [
      "Hamming distance is = 7\n"
     ]
    }
   ],
   "source": [
    "s=\"GAGCCTACTAACGGGAT\"\n",
    "t=\"CATCGTAATGACGGCCT\"\n",
    "\n",
    "difference=0\n",
    "for x in range(len(s)):\n",
    "    if s[x]!=t[x]:\n",
    "        difference+=1\n",
    "print(f'Hamming distance is = {difference}')"
   ]
  },
  {
   "cell_type": "code",
   "execution_count": null,
   "id": "b2791434",
   "metadata": {},
   "outputs": [],
   "source": []
  },
  {
   "cell_type": "markdown",
   "id": "af54d543",
   "metadata": {},
   "source": [
    "## <span style='color:green'> Mendel's First law</span>"
   ]
  },
  {
   "cell_type": "markdown",
   "id": "a114867b",
   "metadata": {},
   "source": [
    "<img src= \"https://rosalind.info/media/problems/iprb/balls_tree.png\" style =\"height: 200px\"/>"
   ]
  },
  {
   "cell_type": "markdown",
   "id": "97e9e91b",
   "metadata": {},
   "source": [
    "### <span style='color:blue'>Problem</span>\n",
    "Given: Three positive integers k, m, and n, representing a population containing k+m+n organisms: k individuals \n",
    "are homozygous dominant for a factor, m are heterozygous, and n are homozygous recessive.\n",
    "\n",
    "<br/> Return: The probability that two randomly selected mating organisms will produce an individual possessing a dominant allele (and thus displaying the dominant phenotype). \n",
    "<br/> Assume that any two organisms can mate."
   ]
  },
  {
   "cell_type": "markdown",
   "id": "4326f944",
   "metadata": {},
   "source": [
    "### <span style=\"color: blue;\"> Solution</span>"
   ]
  },
  {
   "cell_type": "code",
   "execution_count": 1,
   "id": "d9e503cd",
   "metadata": {},
   "outputs": [],
   "source": [
    "def probability (k,m,n):\n",
    "    summation=k+m+n\n",
    "    pr_k=k/summation\n",
    "    pr_m=m/summation\n",
    "    pr_n=n/summation\n",
    "    \n",
    "    pr_k_k=pr_k * ((k-1)/(summation-1))*1\n",
    "    pr_k_m=pr_k * ((m)/(summation-1))*1\n",
    "    pr_k_n=pr_k * ((n)/(summation-1))*1\n",
    "    \n",
    "    pr_m_m=pr_m * ((m-1)/(summation-1))*.75\n",
    "    pr_m_k=pr_m * ((k)/(summation-1))*1\n",
    "    pr_m_n=pr_m * ((n)/(summation-1))*.5\n",
    "    \n",
    "    pr_n_n=pr_n * ((n-1)/(summation-1))*0\n",
    "    pr_n_m=pr_n * ((m)/(summation-1))*.5\n",
    "    pr_n_k=pr_n * ((k)/(summation-1))*1\n",
    "    \n",
    "    \n",
    "    answer=pr_k_k + pr_k_m + pr_k_n + pr_m_m + pr_m_k + pr_m_n + pr_n_n + pr_n_m + pr_n_k\n",
    "    return answer"
   ]
  },
  {
   "cell_type": "code",
   "execution_count": 30,
   "id": "11706e2a",
   "metadata": {},
   "outputs": [
    {
     "data": {
      "text/plain": [
       "0.7833333333333333"
      ]
     },
     "execution_count": 30,
     "metadata": {},
     "output_type": "execute_result"
    }
   ],
   "source": [
    "probability(2,2,2)"
   ]
  },
  {
   "cell_type": "markdown",
   "id": "2774c3e0",
   "metadata": {},
   "source": [
    "#### Test data set"
   ]
  },
  {
   "cell_type": "code",
   "execution_count": 35,
   "id": "9e37c164",
   "metadata": {},
   "outputs": [
    {
     "data": {
      "text/plain": [
       "0.7608408249603387"
      ]
     },
     "execution_count": 35,
     "metadata": {},
     "output_type": "execute_result"
    }
   ],
   "source": [
    "probability(22,19,21)"
   ]
  },
  {
   "cell_type": "code",
   "execution_count": null,
   "id": "3c6c389c",
   "metadata": {},
   "outputs": [],
   "source": []
  },
  {
   "cell_type": "markdown",
   "id": "2ea380f0",
   "metadata": {},
   "source": [
    "## <span style ='color:green'>Translating RNA into Protein</span>\n",
    "\n",
    "### <span style ='color:blue'>Problem</span>\n",
    "The 20 commonly occurring amino acids are abbreviated by using 20 letters from the English alphabet (all letters except for B, J, O, U, X, and Z). Protein strings are constructed from these 20 symbols. Henceforth, the term genetic string will incorporate protein strings along with DNA strings and RNA strings.\n",
    "\n",
    "The RNA codon table dictates the details regarding the encoding of specific codons into the amino acid alphabet.\n",
    "\n",
    "**Given: An RNA string s corresponding to a strand of mRNA (of length at most 10 kbp).**\n",
    "\n",
    "**Return: The protein string encoded by s.**"
   ]
  },
  {
   "cell_type": "markdown",
   "id": "c4242cb4",
   "metadata": {},
   "source": [
    "##### Sample Dataset\n",
    "AUGGCCAUGGCGCCCAGAACUGAGAUCAAUAGUACCCGUAUUAACGGGUGA\n",
    "##### Sample Output\n",
    "MAMAPRTEINSTRING"
   ]
  },
  {
   "cell_type": "markdown",
   "id": "764cb828",
   "metadata": {},
   "source": [
    "### <span style=\"color: blue;\"> Solution</span>"
   ]
  },
  {
   "cell_type": "code",
   "execution_count": 70,
   "id": "f0e34639",
   "metadata": {},
   "outputs": [
    {
     "name": "stdout",
     "output_type": "stream",
     "text": [
      "MAMAPRTEINSTRING*\n"
     ]
    }
   ],
   "source": [
    "from Bio.Seq import Seq\n",
    "\n",
    "rna=Seq('AUGGCCAUGGCGCCCAGAACUGAGAUCAAUAGUACCCGUAUUAACGGGUGA')\n",
    "print(rna.translate())"
   ]
  },
  {
   "cell_type": "markdown",
   "id": "9a5b0843",
   "metadata": {},
   "source": [
    "### Solution with sample dataset"
   ]
  },
  {
   "cell_type": "code",
   "execution_count": 84,
   "id": "670cce43",
   "metadata": {
    "scrolled": false
   },
   "outputs": [
    {
     "name": "stdout",
     "output_type": "stream",
     "text": [
      "MCHLYMSESLTQAARVSPLLLGICVDPCFDLTSQWLSSWTDLVGLELLSASEASMRSRARTGPNSTGKLSHNRKQLNSLTGTPLQVVSKSCYNATRRSRWRILTYDDHLTGRSGTEVPCSYRRLLTFGPNYFTSYGYVVDGTLLDSVATQGDGFIRPFTISAAHVSLFCLDSWSTTTLAVSRAVARLNLPLQAPSNHVLEGDLRWDCGEACCRKRAGVPIFLAHEKWVLDPDIHTFYLRRTAEYPNLETRHVILGTGRVPLTAAFESRGHEGNERSRKYSSCCTPHYLYPTGESVVSQGRGHNLHVTCPSLRPPENAGFCLAASLVTISKASCLLFIDGTAVNLDDFWKRRALHRQRASHVLYSLESRPKICALTRPNIDRTGTLVPTGGHSVGSERPNQCRNIATHRLRFCATRHNNKAEIPWPLPVSEGSVSPVICIFTLGAPTHLVLTIGQSLRSCKLWDAKYHMLPKCAHARWGTMRGLTPVNNLLPFFPALTCVQTNSRLRHPTALRGLSQPVIILPRLSRYRHTAGLPLVYTALISKFERKKEKPLESYACQNLNHPDALGNQLISYNDRSVIYHCRTKHVYDRESNHLLNRTFLFRVNRRKVNRDRVIIFRNFVRNTLSLGRASLKTVIRKKILPIPTSTLPIAVVRPRVGCGRAPCPVFRCRRFCLLSCWSVIRAGSLCGGWHYNESTTLRLMRLSTLHWSRSPKKHNPAVINEVNSCSKKSLLRYLMPMGSFVILILAKRPSGEAHHQGVVLSQHIQELRLTSATSRWYYCIKGPEYNRHDTDLSWRITTGDLYLGMFGPWSLVLVEINSSAGQCWHFIRTSHEWTPNLLVHSLWKCRFRHTNLIYDPSLNLSRSGDADGDRTGIRISVAPILNGTRPRRHTSDNLPIMKLCCIGRYADWQEPETIEHYEYKSCRLDHTYYLSLRKMYGLDIVSATRGAVGEHFDGRTTCPVLPLYISAGGYTWFLPVRKYRAALGTMRNTVYTYDDCVPEFRFKERVVKPFINGALPRSPSFIGGRMADRTLQTPVEPRGGWDSRAPRALTACLRAICFASYLGQTPCWCVCQNITHSPNASVRRGLWIRRAGSPNLLQVVALSLGSSPGPHLLLPIGAVFDRPAYLAGSLSAVEDLRIIRTSTAVGSERHALGAARVWSVYSPVFKLWAGPAMLWRFSQSGGEEYFGPLLGCSPIPLNWKCRSRTAQINCILLALPGSVLGRSRVLMVVASNSLGAEQGLWHARLLGKSTREPCLLYTPCSLFCPEGHPLMAFDCLGRCRQSRRVLATSKNKAMAPLTSSNLRRRRVRLSSATAVPLSRARLTGGSPLNDDKAPAGERVSPGSYLTSFFSRTGCSPMHPLNAYILKQEPMNPVCYLLISPERGFTSCSQNKWVPNVLEHWPRQWLDVRLLRLSNEPTLYASGVQGQCGPSLRTESVTIRFGHDPKASAHFSGNSRTGSLRPCQFPTTVYMLLACLFARLTIQAQFLEVRLKLLELVVTCICAIIYGYVIMESHPGWYKHSHFHRKQGANKWPPPGVMGFIPALMFTVRSLGPARRLCLLGFGRSTTVFNESQQCEYQLRVVGFSPVLPVHELAKFDYCSYVCGHPFLLQSSIDVLQMRALPTGHFLCTHQKTLPSLPFAAVRKGLNRRFSSGHALKLQYVLYRIEFADLFSCLWVSRRPRTVIFTKLGHLISTRVSSLSDSPSSPLEGDKLIERSVVRRCGLIWLRPLGPRSQERRRPLGLECSMRRHPAIQDVGWRRRANRLCTEHAVARAKTLHDVSCHRPNLNVVSIGFSSGGFTMNVTMTWHSGYCGLGETRVRSSVSERSPQLAVLPYHLFQAGARGVGYFGWSTPETYTTEPGAVVRETFNPTLPIQCGCTASLTLERKPLIPLLTMLLSLRDFTTVQKTTKVFARQHTDVCKSVLGCVDLERNPLDYRRKVRLLEERNTWAISKIQVHWRDQASEYTQDTCAWRAIPKDGLSPIYTRNRLHITATYSLGTMAYIAFVAHIHVRQIGGLPMIYFPNKEYVHRDNFASGWGTEQIVVVERRVLQPGLAPITAESPICTYLCRWRHLPRRRVRFCLLVLAGGGPRTSSRRSGPLTWTPTIGSNQRLSERMATSGDEVQAEHIRLMVAKKHENDCGPEVHLCCRKRPFSWSRPITARAEMSRVPSRDSPHLSKCMASLLVDSPRHVQSASLTIIRLCFARLTIRRLCTEGTRPVSQIIPPPYRFCQVTERQGPNDHCRGHSVSWAIRFTLVTPRALCLDRFRALNSIYETNRRRLLQWDWESRAVVRGVNLYNDHIGEVLAHLSAIWFNKNTLVAARGTMVHAARVNTYSILVCNNRPPAQCDSNTSTLRKTGRYAVTWSTVHRTPHGHLRYGAPSLICFVFNIKPKPPRYHAQDVRMRHWVRVSTKPHWPTQRWPTAELTGHFVVIVRQSKPWRATMCCLAEEDVRPGLGERGRYLVIHSPAGVLLPGNETAKYTRFGTAPIRKSYSRRGGATCVRPRTTFFLELLGSKRCDLINTTDRLGPNWNGHQPLVVSARLGSLKRLYKMATARGTTRHCSSAINILEGSWGGVCIDKHAYAVKKSRLKLERHTSNGKRPSSPDFQGCKGWNPCGNRFKQCWSNARTSFRNRKNTCLLSPMCLSQTRFTHSRCNVYNDAKSVNKPTLLFKRGSAGRLSPQTTALSTTSKWILSSIGSVKRPHAFSCARTVWALCAQGAFLRKARSPRMALRGEELPKALSSCFSSHTRQSEEYEVEKLSLGDHVSHPIHVSRIHRTSPPGQAAYLQILARIRRSSSRNTKRLPVTHAWPNLYLASLAVYSTLVWISSKRRSVDEHSNLPFQEFFFVACPVNWACSSFGRLNRYDEIRTDTSGHAERTHGKSQTMTCIFPPLNFHPIVFGAARHVLSPRRRPSAYLQGSTFQQIRHCPSKFRMLVHEQLTLSVCFAIEKTLLLHLAQCSRIVGDQSSVTCHVCHPEWPYSFSLSRGHLFLFVLGNLGRTDRSLSSSLQCAVPNYYGSKHLPGSISLTYGDHGDITSVVLMPTRLAGIYYTGLSYTCKGPYLHHLIRPFCVALEGLIVLTLPSLKLEHSGESTVILDVPVAIEPLG*\n"
     ]
    },
    {
     "name": "stderr",
     "output_type": "stream",
     "text": [
      "/Users/elohorokpako/opt/anaconda3/lib/python3.9/site-packages/Bio/Seq.py:2804: BiopythonWarning: Partial codon, len(sequence) not a multiple of three. Explicitly trim the sequence or add trailing N before translation. This may become an error in future.\n",
      "  warnings.warn(\n"
     ]
    }
   ],
   "source": [
    "with open ('rosalind_prot.txt','r') as f:\n",
    "    file=f.read()\n",
    "rna=Seq(file)\n",
    "print(rna.translate())"
   ]
  },
  {
   "cell_type": "markdown",
   "id": "965d70ad",
   "metadata": {},
   "source": [
    "**RNA codon table from Rosalind website** [Link](https://rosalind.info/glossary/rna-codon-table/)"
   ]
  },
  {
   "cell_type": "raw",
   "id": "3142bdcb",
   "metadata": {},
   "source": [
    "UUU F      CUU L      AUU I      GUU V\n",
    "UUC F      CUC L      AUC I      GUC V\n",
    "UUA L      CUA L      AUA I      GUA V\n",
    "UUG L      CUG L      AUG M      GUG V\n",
    "UCU S      CCU P      ACU T      GCU A\n",
    "UCC S      CCC P      ACC T      GCC A\n",
    "UCA S      CCA P      ACA T      GCA A\n",
    "UCG S      CCG P      ACG T      GCG A\n",
    "UAU Y      CAU H      AAU N      GAU D\n",
    "UAC Y      CAC H      AAC N      GAC D\n",
    "UAA Stop   CAA Q      AAA K      GAA E\n",
    "UAG Stop   CAG Q      AAG K      GAG E\n",
    "UGU C      CGU R      AGU S      GGU G\n",
    "UGC C      CGC R      AGC S      GGC G\n",
    "UGA Stop   CGA R      AGA R      GGA G\n",
    "UGG W      CGG R      AGG R      GGG G "
   ]
  },
  {
   "cell_type": "code",
   "execution_count": null,
   "id": "cd83f383",
   "metadata": {},
   "outputs": [],
   "source": []
  },
  {
   "cell_type": "markdown",
   "id": "f0c10aa7",
   "metadata": {},
   "source": [
    "## <span style='color:green'>Finding a Motif in DNA</span>\n",
    "\n",
    "### <span style ='color:blue'>Problem</span>\n",
    "Given two strings s and t. t is a substring of s if t is contained as a contiguous collection of symbols in s (as a result, t must be no longer than s).\n",
    "\n",
    "The position of a symbol in a string is the total number of symbols found to its left, including itself (e.g., the positions of all occurrences of 'U' in \"AUGCUUCAGAAAGGUCUUACG\" are 2, 5, 6, 15, 17, and 18). The symbol at position i of s is denoted by s[i].\n",
    "\n",
    "A substring of s can be represented as s[j:k] , where j and k represent the starting and ending positions of the substring in s; for example, \n",
    "\n",
    "if s = \"AUGCUUCAGAAAGGUCUUACG\", \n",
    "\n",
    "then s[2:5] = \"UGCU\".\n",
    "\n",
    "The location of a substring s[j:k] is its beginning position j; note that t will have multiple locations in s if it occurs more than once as a substring of s(see the Sample below).\n",
    "\n",
    "**Given: Two DNA strings s and t (each of length at most 1 kbp).**\n",
    "\n",
    "**Return: All locations of t as a substring of s.**"
   ]
  },
  {
   "cell_type": "markdown",
   "id": "4296fbe3",
   "metadata": {},
   "source": [
    "##### Sample Dataset\n",
    "GATATATGCATATACTT\n",
    "\n",
    "ATAT\n",
    "##### Sample Output\n",
    "2 4 10"
   ]
  },
  {
   "cell_type": "markdown",
   "id": "65fb219c",
   "metadata": {},
   "source": [
    "### <span style=\"color: blue;\"> Solution</span>"
   ]
  },
  {
   "cell_type": "code",
   "execution_count": 89,
   "id": "9876398f",
   "metadata": {},
   "outputs": [
    {
     "name": "stdout",
     "output_type": "stream",
     "text": [
      "2 4 10\n"
     ]
    }
   ],
   "source": [
    "s = 'GATATATGCATATACTT'\n",
    "t = 'ATAT'\n",
    "\n",
    "positions = [start + 1 for start in range(len(s)) if s[start:start + len(t)] == t]\n",
    "\n",
    "print(*positions)"
   ]
  },
  {
   "cell_type": "markdown",
   "id": "7c30d83b",
   "metadata": {},
   "source": [
    "### Solution with sample dataset"
   ]
  },
  {
   "cell_type": "code",
   "execution_count": 128,
   "id": "6979e7d1",
   "metadata": {},
   "outputs": [
    {
     "name": "stdout",
     "output_type": "stream",
     "text": [
      "63 92 101 111 159 166 175 190 243 301 337 353 432 530 545 552 587 613 628 651 658 724 743 847\n"
     ]
    }
   ],
   "source": [
    "with open ('rosalind_subs.txt','r') as f:\n",
    "    file=f.read().split('\\n')\n",
    "dna=file[0]\n",
    "sub_string=file[1]\n",
    "positions = [start + 1 for start in range(len(dna)) if dna[start:start + len(sub_string)] == sub_string]\n",
    "print(*positions)"
   ]
  },
  {
   "cell_type": "code",
   "execution_count": null,
   "id": "54cbc985",
   "metadata": {},
   "outputs": [],
   "source": []
  },
  {
   "cell_type": "markdown",
   "id": "e5097e74",
   "metadata": {},
   "source": [
    "## <span style='color:green'>Consensus and Profile</span>\n",
    "### <span style='color:blue'>Problem</span>\n",
    "A matrix is a rectangular table of values divided into rows and columns. An m×n\n",
    " matrix has m\n",
    " rows and n\n",
    " columns. Given a matrix A\n",
    ", we write Ai,j\n",
    " to indicate the value found at the intersection of row i\n",
    " and column j\n",
    ".\n",
    "\n",
    "Say that we have a collection of DNA strings, all having the same length n\n",
    ". Their profile matrix is a 4×n\n",
    " matrix P\n",
    " in which P1,j\n",
    " represents the number of times that 'A' occurs in the j\n",
    "th position of one of the strings, P2,j\n",
    " represents the number of times that C occurs in the j\n",
    "th position, and so on (see below).\n",
    "\n",
    "A consensus string c\n",
    " is a string of length n\n",
    " formed from our collection by taking the most common symbol at each position; the j\n",
    "th symbol of c\n",
    " therefore corresponds to the symbol having the maximum value in the j\n",
    "-th column of the profile matrix. Of course, there may be more than one most common symbol, leading to multiple possible consensus strings."
   ]
  },
  {
   "cell_type": "raw",
   "id": "73310f73",
   "metadata": {},
   "source": [
    "                            A T C C A G C T\n",
    "                            G G G C A A C T\n",
    "                            A T G G A T C T\n",
    "              DNA Strings\tA A G C A A C C\n",
    "                            T T G G A A C T\n",
    "                            A T G C C A T T\n",
    "                            A T G G C A C T\n",
    "\n",
    "\n",
    "                            A   5 1 0 0 5 5 0 0\n",
    "                 Profile\tC   0 0 1 4 2 0 6 1\n",
    "                            G   1 1 6 3 0 1 0 0\n",
    "                            T   1 5 0 0 0 1 1 6\n",
    "                            \n",
    "                        \n",
    "               Consensus\tA T G C A A C T"
   ]
  },
  {
   "cell_type": "markdown",
   "id": "ee425b29",
   "metadata": {},
   "source": [
    "**Given: A collection of at most 10 DNA strings of equal length (at most 1 kbp) in FASTA format.**\n",
    "\n",
    "**Return: A consensus string and profile matrix for the collection. (If several possible consensus strings exist, then you may return any one of them.)**"
   ]
  },
  {
   "cell_type": "markdown",
   "id": "eeec4952",
   "metadata": {},
   "source": [
    "**Sample Dataset**"
   ]
  },
  {
   "cell_type": "raw",
   "id": "58aaddb4",
   "metadata": {},
   "source": [
    ">Rosalind_1\n",
    "ATCCAGCT\n",
    ">Rosalind_2\n",
    "GGGCAACT\n",
    ">Rosalind_3\n",
    "ATGGATCT\n",
    ">Rosalind_4\n",
    "AAGCAACC\n",
    ">Rosalind_5\n",
    "TTGGAACT\n",
    ">Rosalind_6\n",
    "ATGCCATT\n",
    ">Rosalind_7\n",
    "ATGGCACT"
   ]
  },
  {
   "cell_type": "markdown",
   "id": "f250a2c4",
   "metadata": {},
   "source": [
    "**Sample Output**"
   ]
  },
  {
   "cell_type": "raw",
   "id": "5b6c7c2f",
   "metadata": {},
   "source": [
    "ATGCAACT\n",
    "A: 5 1 0 0 5 5 0 0\n",
    "C: 0 0 1 4 2 0 6 1\n",
    "G: 1 1 6 3 0 1 0 0\n",
    "T: 1 5 0 0 0 1 1 6"
   ]
  },
  {
   "cell_type": "markdown",
   "id": "5e165a78",
   "metadata": {},
   "source": [
    "### <span style ='color:blue'>Solution</span>"
   ]
  },
  {
   "cell_type": "code",
   "execution_count": 259,
   "id": "0bc4e72c",
   "metadata": {},
   "outputs": [],
   "source": [
    "import re\n",
    "dna=('''>Rosalind_1ATCCAGCT>Rosalind_2GGGCAACT>Rosalind_3ATGGATCT>Rosalind_4AAGCAACC>Rosalind_5TTGGAACT>Rosalind_6ATGCCATT>Rosalind_7ATGGCACT''')\n",
    "\n",
    "dna=re.split('>Rosalind_\\d',dna)[1:]"
   ]
  },
  {
   "cell_type": "code",
   "execution_count": 238,
   "id": "fa495ff2",
   "metadata": {
    "scrolled": false
   },
   "outputs": [],
   "source": [
    "def count(Motifs):\n",
    "    count = {}\n",
    "    k = len(Motifs[0])\n",
    "    for symbol in \"ACGT\":\n",
    "        count[symbol] = []\n",
    "        for j in range(k):\n",
    "            count[symbol].append(0)\n",
    "    t = len(Motifs)\n",
    "    for i in range(t):\n",
    "        for j in range(k):\n",
    "            symbol = Motifs[i][j]\n",
    "            count[symbol][j] += 1\n",
    "    return count\n",
    "\n",
    "def consensus(Motifs):\n",
    "    k = len(Motifs[0])\n",
    "    motif_count = count(Motifs)\n",
    "    consensus = \"\"\n",
    "    for j in range(k):\n",
    "        m = 0\n",
    "        frequentSymbol = \"\"\n",
    "        for symbol in \"ACGT\":\n",
    "            if motif_count[symbol][j] > m:\n",
    "                m = motif_count[symbol][j]\n",
    "                frequentSymbol = symbol\n",
    "        consensus += frequentSymbol\n",
    "    return consensus"
   ]
  },
  {
   "cell_type": "code",
   "execution_count": 261,
   "id": "6c2536a8",
   "metadata": {},
   "outputs": [
    {
     "name": "stdout",
     "output_type": "stream",
     "text": [
      "ATGCAACT\n",
      "A :  5 1 0 0 5 5 0 0\n",
      "C :  0 0 1 4 2 0 6 1\n",
      "G :  1 1 6 3 0 1 0 0\n",
      "T :  1 5 0 0 0 1 1 6\n"
     ]
    }
   ],
   "source": [
    "motif=[x.replace('\\n','') for x in dna]\n",
    "\n",
    "print(consensus(motif))\n",
    "for key, value in count(motif).items():\n",
    "    print(f\"{key} :  {' '.join(map(str,value))}\")"
   ]
  },
  {
   "cell_type": "markdown",
   "id": "78dede4f",
   "metadata": {},
   "source": [
    "### Solution with sample dataset"
   ]
  },
  {
   "cell_type": "code",
   "execution_count": 252,
   "id": "47ecaa53",
   "metadata": {},
   "outputs": [],
   "source": [
    "with open ('rosalind_cons.txt','r') as file:\n",
    "    motif=re.split('>Rosalind_\\d*',file.read())[1:]"
   ]
  },
  {
   "cell_type": "code",
   "execution_count": 253,
   "id": "fa20f1c5",
   "metadata": {},
   "outputs": [
    {
     "name": "stdout",
     "output_type": "stream",
     "text": [
      "CTCTGCCTAACACGCATGGGTAGTAACCGCTCTGGGCCGAGTCTGATTCGAGAACTCGTGTCCCCCGCTGTGGACCACCCAGGGTCACGCATTAACGATTGGGTTAGGATCTGAGCTAGACAGAAGTGCCATATGCGAATCGGCGCTCATTATTGGGAGAAAAGCGCACGCAACGAGATTGGCAAGTTGCTACGCAGATCGTGCTCTGTCCATTAGCCGGCAAGTACGGTAAAACAACCAATTCAGCTACAGTAACAACTAGACATCCCTAACCTCCGTGCGAAAAGCGGCGAGACATAGTGCGCAGAAATACTGCGATCCAAAAGACACCGCTTCCAGCATCCCAAGACCCGAAGTGAAAGTTAACAAGCTGTCTCGGCAAAGATAACAATAGACCAGGGACAGGAGCTGATCTTGCGTATCTAAAGAAACAACGAGGACAGCGACGTGAAAGAAGAAAAGGAAGCAGGACAGCCAGACTAACTGATTGAATCGAATCAGGCATCTACCAACCATCTGTCCGCATGGAACACGAGGGCCTCGAAAGGATAACAAACAACTGAAATGAGAGGAATAGAACACCCGGCATCCGCGACAAGGGAGATGAGCCAAATCCGAACACAAAAAGACTGACGAAGCACAGCGAGGAGACACCGTGTACCTCCCCTGTCCGCGTACAGTCTCAGCAACTGCATAGCGCGAAGATTAATAAGAGAAGAGGCCAGAGCCCGCGATATTAAACAACGGCACACATCAAATAGCCAAGGAGCGGACAAAATAAGGTAGGTAAGAGCTCTGAGTTGAGCGTAACGTTCACTCGACATGTCGACCAAACGACATAAGCGTGGCTGAGGTACGAGGGAGCGAGTACACCGACGAGATGAGAAAGCACCGTGGACACTGTAGCGCTGAAAAATGAACAC\n",
      "A: 2 3 2 2 2 1 2 1 4 4 3 3 1 2 0 3 1 2 1 1 0 3 2 3 3 4 0 0 3 3 1 1 2 1 2 1 2 1 4 3 3 2 3 3 1 4 1 3 1 1 3 1 4 4 3 1 1 1 1 0 1 2 1 2 1 2 3 2 1 2 1 1 1 5 2 2 4 2 3 3 4 3 1 2 1 1 4 2 2 1 4 2 1 5 4 1 1 3 2 3 2 1 4 1 1 4 1 3 4 2 2 2 3 5 1 0 0 6 2 5 1 4 2 3 4 3 2 3 1 3 5 1 4 2 3 2 2 4 4 2 1 0 2 3 3 2 1 2 3 3 2 5 2 0 2 3 1 4 2 4 4 7 4 0 1 1 3 3 3 1 1 3 4 2 2 3 1 3 3 2 4 2 2 3 4 1 2 3 2 1 2 4 2 2 2 3 0 4 2 1 2 2 2 0 0 0 1 2 3 3 3 4 2 0 3 2 1 2 1 1 2 5 5 2 2 7 2 1 0 3 3 5 3 3 3 4 3 2 1 4 5 1 1 2 3 2 2 0 4 2 5 3 3 3 5 2 3 5 1 1 5 2 3 0 3 0 2 2 1 2 4 4 2 1 2 2 1 1 1 2 1 1 4 4 4 6 0 1 2 1 1 2 4 3 3 3 4 2 3 2 2 2 1 2 0 4 1 5 3 3 0 4 2 1 2 1 3 5 2 2 2 4 4 4 5 2 3 2 3 0 0 2 2 2 3 2 0 5 3 2 4 3 1 1 0 5 4 3 4 2 2 2 2 4 4 2 4 3 3 3 4 1 3 3 5 3 1 4 4 1 2 3 1 2 2 1 1 1 1 0 4 5 4 2 6 3 3 3 2 5 5 2 3 3 8 1 2 4 2 0 3 3 2 6 4 1 3 1 3 1 1 3 1 1 2 1 3 2 3 2 3 3 2 3 3 4 4 2 6 3 4 3 5 4 1 2 4 3 1 4 2 5 3 3 2 3 2 2 2 2 4 4 3 2 3 5 1 5 3 3 4 0 1 3 3 2 2 3 2 2 4 2 3 2 3 0 4 2 3 3 1 4 3 2 1 1 4 2 3 1 4 3 3 2 3 4 3 3 1 4 2 3 2 4 3 2 1 4 2 1 4 3 2 3 3 2 2 3 3 3 1 1 3 2 4 2 1 2 3 5 2 4 2 1 4 1 2 1 2 1 1 0 2 4 4 4 0 2 4 3 4 3 2 4 5 4 3 3 3 2 2 1 4 3 4 2 1 4 2 3 2 2 5 4 3 3 1 4 3 2 3 3 1 3 2 1 1 3 1 2 0 1 2 3 3 2 3 4 2 2 2 5 3 3 2 2 4 2 3 0 5 4 4 1 1 2 2 4 4 3 4 0 4 4 3 4 4 2 4 2 1 3 4 0 3 3 4 2 2 4 1 4 2 2 1 3 2 2 6 2 4 2 3 2 1 3 3 2 2 3 2 2 1 3 1 0 1 3 1 1 2 0 2 1 2 1 4 1 3 2 3 3 0 1 5 1 3 4 3 3 3 3 1 5 2 3 0 1 2 1 2 4 3 1 3 1 2 4 3 1 5 3 2 4 0 4 4 1 5 0 1 3 3 4 3 4 1 2 2 3 2 2 2 4 1 4 2 3 4 3 4 2 3 4 1 2 2 2 4 0 3 2 6 3 2 4 4 4 1 4 3 1 2 3 4 2 1 4 1 2 1 2 3 2 3 4 4 4 3 5 4 1 3 2 4 1 1 2 3 4 2 4 2 2 3 0 3 1 3 1 1 2 2 6 1 1 1 2 3 4 2 2 1 0 1 3 1 2 2 1 3 1 3 2 1 0 1 2 5 1 2 3 4 5 1 3 4 1 4 3 3 4 0 3 2 3 1 3 1 1 2 5 1 3 2 4 2 3 4 2 2 3 4 4 2 0 3 2 2 4 3 4 3 0 2 4 3 3 4 3 3 3 3 4 2 5 4 3 3 3 3 2 0 2 1 4 0 4 2 4 0 3 3 3 4 2 0 3 1 0 1 5 4 3 4 4 2 1 3 4 1 3 2\n",
      "C: 4 1 3 2 2 4 3 2 2 1 4 3 5 2 6 2 0 2 2 1 1 3 1 2 2 2 4 4 1 6 3 4 1 2 2 3 6 5 0 3 1 2 4 0 1 3 2 1 4 3 3 1 2 2 4 2 4 3 3 1 2 3 3 3 3 3 2 3 2 2 3 1 2 3 3 4 2 5 5 4 4 2 3 3 2 4 1 4 1 6 2 2 2 1 2 3 1 1 3 1 0 3 0 3 2 0 3 1 0 1 4 3 2 2 2 4 1 1 0 1 3 4 3 2 2 1 2 3 4 4 1 3 4 2 1 4 2 1 2 1 3 3 1 4 1 4 1 4 3 0 2 1 3 3 2 0 3 3 2 2 3 1 3 2 3 1 6 2 4 3 4 3 1 3 2 1 1 3 2 2 1 2 3 3 1 2 3 2 1 5 1 1 4 2 4 3 3 0 1 4 0 3 2 4 3 4 1 1 1 4 4 3 2 3 3 1 5 3 2 2 4 0 3 2 2 0 4 1 2 1 1 0 2 2 4 0 3 3 3 1 1 3 3 3 3 3 4 1 2 3 0 1 2 3 1 3 3 0 4 2 0 3 1 4 3 3 4 4 6 2 4 0 4 3 2 4 5 2 2 3 4 3 2 3 2 1 3 4 1 3 6 2 3 1 3 4 1 1 1 1 0 2 5 1 5 3 3 1 2 2 1 3 5 3 1 5 2 4 1 4 4 3 1 3 1 2 2 5 3 4 7 1 3 3 2 5 5 1 1 3 1 3 3 4 4 1 1 0 3 3 3 4 2 1 1 1 1 1 3 1 3 2 2 1 2 2 4 1 4 3 4 1 3 1 3 3 4 1 1 4 0 2 2 2 1 2 3 2 4 2 1 1 2 1 0 4 3 2 2 2 0 2 4 1 1 3 3 2 4 2 3 2 2 5 1 2 1 4 1 3 2 3 4 1 2 3 3 3 1 3 2 4 0 1 6 2 0 0 3 2 4 1 2 5 1 3 4 3 2 2 4 2 3 1 3 2 2 3 2 3 4 3 3 3 2 1 3 3 2 2 1 4 1 2 4 6 2 2 1 4 2 2 3 3 3 3 1 1 2 3 1 2 1 3 1 3 1 1 7 4 2 1 3 2 2 4 1 2 4 6 2 2 3 4 2 2 3 3 1 2 3 4 2 3 2 2 3 0 2 1 5 3 4 1 2 3 3 2 4 3 3 4 1 0 4 2 1 1 2 1 3 2 4 3 3 2 4 3 3 3 1 2 1 3 0 1 3 1 1 3 2 2 2 2 2 3 2 3 2 3 2 4 7 4 3 2 4 2 4 3 4 2 3 2 3 4 2 2 2 2 3 2 0 3 2 2 4 0 4 4 1 2 2 0 4 5 2 3 1 4 3 5 1 3 2 2 2 2 2 4 3 2 2 4 2 3 3 3 3 2 5 3 2 4 2 3 1 2 1 1 3 3 3 3 6 1 2 0 2 2 4 4 2 4 4 5 4 2 1 3 5 5 2 5 2 2 1 4 2 2 2 4 0 4 3 1 4 1 2 5 3 1 4 2 1 3 2 3 2 4 1 1 2 1 2 2 2 1 1 1 1 3 2 1 3 3 1 1 3 2 2 5 4 2 1 2 2 4 3 4 2 3 0 2 2 2 3 2 3 2 0 5 1 2 3 1 2 4 0 4 2 3 1 2 3 0 1 2 3 3 2 4 4 2 0 3 2 2 2 3 3 2 3 3 3 1 0 1 3 0 2 2 3 1 3 3 2 2 3 2 2 2 1 3 2 7 2 2 2 2 0 0 1 1 4 3 2 1 2 1 5 2 3 2 3 2 5 2 3 3 2 5 3 1 1 1 3 3 1 4 5 3 4 2 6 2 4 4 3 3 3 2 3 5 2 1 1 1 5 3 2 4 0 1 2 1 6 2 1 3 1 1 2 1 4 3 2 2 1 2 4 0 4 4 2 1 5 1 3 2 1 3 1 3 1 1 2 2 2 4 3 3 5 2 2 1 4 2 3 2 4 2 1 2 4 3 4 2 5 4 2 2 1 1 0 3 2 1 2 2 3 2 4\n",
      "G: 3 2 2 1 5 3 2 2 2 1 1 3 2 5 2 2 3 3 4 4 4 3 4 1 2 1 4 2 4 0 2 1 2 4 4 5 2 1 6 3 4 0 1 3 5 1 3 1 3 4 3 5 3 3 2 1 1 5 2 7 3 2 3 2 3 2 4 2 2 4 2 4 6 1 3 2 2 2 0 2 1 4 4 4 3 2 3 2 4 1 2 2 3 3 3 3 6 3 1 2 4 4 5 2 3 3 4 4 4 3 1 1 4 2 7 3 4 1 4 3 3 0 5 2 1 4 2 4 3 1 3 0 2 2 4 2 4 3 1 1 3 4 4 0 4 1 3 2 1 2 1 2 1 2 3 5 4 1 3 3 1 1 2 5 3 5 0 3 0 4 1 3 3 3 3 3 5 1 1 2 5 5 2 2 3 7 1 1 5 4 3 4 2 3 2 2 4 2 2 3 7 1 3 4 3 3 1 4 2 2 3 2 2 2 1 6 4 2 4 5 4 5 1 4 2 2 2 5 5 2 3 2 3 3 1 3 1 3 3 1 2 2 2 3 3 4 3 4 1 3 2 5 1 1 1 2 1 2 4 2 1 4 3 3 1 1 0 0 0 1 2 4 3 3 2 1 4 4 3 4 3 4 2 2 1 1 4 3 5 4 3 4 2 4 1 2 3 2 3 4 2 3 1 5 3 1 5 2 3 2 1 1 1 2 4 1 4 1 2 2 2 1 2 3 3 3 3 2 2 4 2 4 2 1 0 3 4 2 4 2 3 0 3 2 2 1 3 6 1 2 3 4 4 3 2 5 0 6 2 3 1 6 1 1 2 3 4 3 0 5 3 2 4 2 2 2 2 6 5 2 2 2 1 3 2 1 3 2 4 3 0 2 2 6 0 1 3 2 5 5 6 3 4 2 5 4 3 4 1 3 5 2 3 3 3 3 4 3 4 1 3 0 3 2 3 2 1 4 2 2 2 1 2 2 3 3 3 6 4 2 3 1 5 1 5 2 1 5 1 3 1 3 2 5 2 3 4 1 2 2 0 5 5 3 2 5 3 1 3 3 4 0 3 3 2 1 3 3 3 1 1 1 1 2 2 4 1 2 1 4 4 2 2 3 5 1 3 0 2 1 3 4 3 3 1 3 3 4 4 2 2 3 2 2 3 2 3 0 4 1 3 1 4 2 1 2 4 6 3 1 1 1 1 4 0 4 4 5 3 3 0 2 5 3 1 2 5 4 3 2 2 3 2 2 0 3 2 2 2 2 3 4 3 2 2 3 4 2 4 3 3 4 2 1 1 3 4 2 2 3 3 1 2 2 4 4 2 3 0 2 3 4 3 4 3 2 2 2 3 4 5 2 4 2 2 5 1 5 0 2 1 2 2 3 3 0 3 2 1 0 3 1 2 1 3 2 3 3 1 1 2 5 2 4 4 3 2 4 3 2 2 1 3 2 4 3 4 4 0 6 2 3 3 3 0 5 1 4 2 2 3 2 2 1 3 3 1 1 5 2 1 1 5 2 3 3 2 3 2 3 1 3 3 3 0 4 3 1 2 1 0 4 2 1 3 3 4 3 4 2 4 2 3 5 3 2 2 2 3 1 3 3 4 2 5 3 3 5 1 5 4 1 2 2 5 2 6 2 2 1 4 2 4 3 3 2 1 1 0 2 4 1 3 1 3 4 3 0 4 2 2 2 2 1 3 4 2 1 2 3 4 3 2 3 2 4 5 4 4 3 4 4 3 2 2 2 2 4 0 4 3 4 4 2 1 4 4 2 2 2 4 3 6 2 1 2 1 4 2 4 4 1 4 1 5 3 4 3 3 4 2 3 2 3 3 2 1 2 2 4 2 2 2 2 6 4 3 5 3 3 1 2 0 2 2 4 1 2 1 0 2 3 4 1 3 2 4 5 3 0 4 0 5 4 1 2 0 4 3 4 4 5 1 5 1 4 3 4 2 2 2 4 2 3 4 4 1 4 1 5 3 0 4 1 4 2 1 3 4 2 1 2 4 4 3 5 6 2 2 2 3 1 4 1 2 4 2 4 0 1 4 2 2 3 3 1 2 4 3 1 3 3 4\n",
      "T: 1 4 3 5 1 2 3 5 2 4 2 1 2 1 2 3 6 3 3 4 5 1 3 4 3 3 2 4 2 1 4 4 5 3 2 1 0 3 0 1 2 6 2 4 3 2 4 5 2 2 1 3 1 1 1 6 4 1 4 2 4 3 3 3 3 3 1 3 5 2 4 4 1 1 2 2 2 1 2 1 1 1 2 1 4 3 2 2 3 2 2 4 4 1 1 3 2 3 4 4 4 2 1 4 4 3 2 2 2 4 3 4 1 1 0 3 5 2 4 1 3 2 0 3 3 2 4 0 2 2 1 6 0 4 2 2 2 2 3 6 3 3 3 3 2 3 5 2 3 5 5 2 4 5 3 2 2 2 3 1 2 1 1 3 3 3 1 2 3 2 4 1 2 2 3 3 3 3 4 4 0 1 3 2 2 0 4 4 2 0 4 1 2 3 2 2 3 4 5 2 1 4 3 2 4 3 7 3 4 1 0 1 4 5 3 1 0 3 3 2 0 0 1 2 4 1 2 3 3 4 3 3 2 2 2 3 3 2 3 4 2 4 4 2 1 1 1 5 3 2 3 1 4 3 3 3 3 3 1 5 4 1 3 3 3 6 4 4 3 5 0 2 1 3 4 3 0 3 4 1 2 2 2 1 3 2 3 2 2 2 0 2 1 2 3 1 2 5 3 3 6 3 3 2 2 2 1 2 2 3 8 2 2 4 3 3 1 0 5 2 2 2 3 0 1 3 2 1 2 2 1 3 3 4 5 0 1 2 2 3 2 4 3 3 4 3 2 1 2 3 2 0 2 2 3 2 5 0 2 3 2 1 4 5 1 2 1 2 2 1 1 4 2 5 3 4 3 2 3 4 4 1 3 3 1 4 1 3 0 0 4 5 3 0 2 4 2 2 1 3 1 2 0 1 0 2 1 3 2 4 1 3 4 1 4 4 2 1 2 4 2 4 1 4 2 1 2 1 1 2 2 2 3 3 0 3 3 1 2 2 1 3 0 1 2 2 3 0 5 3 1 1 2 2 2 0 3 1 3 2 2 2 1 1 3 2 2 3 3 3 1 4 3 3 1 3 1 3 3 2 6 3 3 3 4 2 4 5 4 2 1 3 4 2 1 2 3 6 0 1 3 2 2 1 4 1 5 0 0 1 2 2 3 1 2 4 2 4 2 4 3 4 1 3 3 4 2 2 2 3 2 2 3 4 4 2 1 2 1 3 6 4 2 3 1 2 4 3 1 4 1 2 2 1 2 1 1 2 2 3 4 3 2 2 4 4 2 3 3 1 3 2 1 3 4 1 3 1 3 2 2 2 0 1 1 3 3 2 5 3 3 3 2 1 1 2 3 2 3 2 0 1 3 2 4 1 1 3 3 4 3 2 2 6 2 3 3 1 4 3 0 4 3 2 2 2 1 3 3 3 4 0 2 2 1 1 1 1 2 2 2 2 3 2 3 1 3 2 3 1 1 2 1 2 3 1 4 4 4 3 1 2 5 2 2 2 4 4 3 4 2 4 1 2 3 4 3 2 3 3 4 0 7 2 2 4 0 4 3 1 4 2 3 2 4 1 4 3 2 3 3 3 2 3 2 5 4 3 3 7 1 1 2 3 2 0 2 3 1 3 3 1 1 2 1 2 1 2 3 2 2 3 4 1 4 2 4 4 3 3 2 2 3 3 3 3 3 4 2 4 3 3 1 4 2 2 3 3 4 0 1 2 2 2 4 1 2 0 3 2 2 2 1 3 2 3 4 1 4 1 1 3 0 5 2 2 3 4 2 2 2 1 1 3 4 1 4 3 3 3 5 7 3 2 0 3 3 4 2 1 1 3 4 5 3 3 3 4 3 2 3 2 2 5 2 5 3 0 1 2 2 2 2 1 1 1 1 3 2 4 2 1 3 1 3 4 4 1 1 6 2 1 4 2 5 3 2 1 2 1 3 1 3 0 3 3 2 2 5 2 1 2 1 3 2 1 1 2 2 0 3 4 2 2 3 2 3 2 1 1 3 3 1 2 4 0 0 2 3 2 3 4 2 4 0 1 4 1 4 5 3 1 3 3 3 2 4 4 2 3 3 2 0\n"
     ]
    }
   ],
   "source": [
    "no_line_motif=[x.replace('\\n','') for x in motif]\n",
    "\n",
    "print(consensus(no_line_motif))\n",
    "data=count(no_line_motif)\n",
    "for letter, counts in data.items():\n",
    "    print(f\"{letter}: {' '.join(map(str, counts))}\")"
   ]
  },
  {
   "cell_type": "code",
   "execution_count": null,
   "id": "17ca7402",
   "metadata": {},
   "outputs": [],
   "source": []
  }
 ],
 "metadata": {
  "kernelspec": {
   "display_name": "Python 3 (ipykernel)",
   "language": "python",
   "name": "python3"
  },
  "language_info": {
   "codemirror_mode": {
    "name": "ipython",
    "version": 3
   },
   "file_extension": ".py",
   "mimetype": "text/x-python",
   "name": "python",
   "nbconvert_exporter": "python",
   "pygments_lexer": "ipython3",
   "version": "3.9.13"
  }
 },
 "nbformat": 4,
 "nbformat_minor": 5
}
