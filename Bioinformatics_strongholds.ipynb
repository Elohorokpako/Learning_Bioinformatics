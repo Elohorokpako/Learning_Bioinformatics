{
 "cells": [
  {
   "cell_type": "markdown",
   "id": "a8b487c7",
   "metadata": {},
   "source": [
    "## Counting DNA Nucleotides\n",
    "\n",
    "### Problem\n",
    "A string is simply an ordered collection of symbols selected from some alphabet and formed into a word; the length of a string is the number of symbols that it contains.\n",
    "\n",
    "An example of a length 21 DNA string (whose alphabet contains the symbols 'A', 'C', 'G', and 'T') is \"ATGCTTCAGAAAGGTCTTACG.\"\n",
    "\n",
    "**Given: A DNA string s of length at most 1000 nt**\n",
    "\n",
    "**Return: Four integers (separated by spaces) counting the respective number of times that the symbols 'A', 'C', 'G', and 'T' occur in s**"
   ]
  },
  {
   "cell_type": "markdown",
   "id": "72dbc097",
   "metadata": {},
   "source": [
    "##### Sample Dataset\n",
    "AGCTTTTCATTCTGACTGCAACGGGCAATATGTCTCTGTGTGGATTAAAAAAAGAGTGTCTGATAGCAGC\n",
    "\n",
    "##### Sample Output\n",
    "20 12 17 21"
   ]
  },
  {
   "cell_type": "markdown",
   "id": "1559e10d",
   "metadata": {},
   "source": [
    "#### Solution"
   ]
  },
  {
   "cell_type": "code",
   "execution_count": 16,
   "id": "910b57f1",
   "metadata": {},
   "outputs": [
    {
     "name": "stdout",
     "output_type": "stream",
     "text": [
      "20 12 17 21 "
     ]
    }
   ],
   "source": [
    "codes=\"AGCTTTTCATTCTGACTGCAACGGGCAATATGTCTCTGTGTGGATTAAAAAAAGAGTGTCTGATAGCAGC\"\n",
    "code_dict={'A':0,'C':0,'G':0,'T':0} #initialize the dictionary\n",
    "for i in codes:\n",
    "    code_dict[i]+=1 #calculate the frequency of each of the nucleotides\n",
    "\n",
    "for values in code_dict.values():\n",
    "    print(values,end=' ') #print the nucleotides in a single line"
   ]
  },
  {
   "cell_type": "code",
   "execution_count": null,
   "id": "118b7ae2",
   "metadata": {},
   "outputs": [],
   "source": []
  },
  {
   "cell_type": "markdown",
   "id": "f4616388",
   "metadata": {},
   "source": [
    "## Transcribing DNA into RNA\n",
    "\n",
    "### Problem\n",
    "An RNA string is a string formed from the alphabet containing 'A', 'C', 'G', and 'U'.\n",
    "\n",
    "Given a DNA string t\n",
    " corresponding to a coding strand, its transcribed RNA string u\n",
    " is formed by replacing all occurrences of 'T' in t\n",
    " with 'U' in u.\n",
    "\n",
    "**Given: A DNA string t having length at most 1000 nt**\n",
    "\n",
    "**Return: The transcribed RNA string of t.**"
   ]
  },
  {
   "cell_type": "markdown",
   "id": "8a6f7cff",
   "metadata": {},
   "source": [
    "##### Sample Dataset\n",
    "GATGGAACTTGACTACGTAAATT\n",
    "\n",
    "##### Sample Output\n",
    "GAUGGAACUUGACUACGUAAAUU"
   ]
  },
  {
   "cell_type": "markdown",
   "id": "f349a586",
   "metadata": {},
   "source": [
    "#### Solution"
   ]
  },
  {
   "cell_type": "code",
   "execution_count": 47,
   "id": "9a2aec87",
   "metadata": {},
   "outputs": [
    {
     "name": "stdout",
     "output_type": "stream",
     "text": [
      "GAUGGAACUUGACUACGUAAAUU\n"
     ]
    }
   ],
   "source": [
    "dna=\"GATGGAACTTGACTACGTAAATT\"\n",
    "rna=[i.replace('T','U') for i in dna] #replace T with U in the dna string\n",
    "print(*rna,sep='') #you can also use ''.join(rna) and it will print the same result"
   ]
  },
  {
   "cell_type": "code",
   "execution_count": null,
   "id": "f6dbf1d8",
   "metadata": {},
   "outputs": [],
   "source": []
  },
  {
   "cell_type": "markdown",
   "id": "a637cd0b",
   "metadata": {},
   "source": [
    "## Complementing a Strand of DNA\n",
    "\n",
    "### Problem \n",
    "In DNA strings, symbols 'A' and 'T' are complements of each other, as are 'C' and 'G'.\n",
    "\n",
    "The reverse complement of a DNA string s\n",
    " is the string sc\n",
    " formed by reversing the symbols of s\n",
    ", then taking the complement of each symbol (e.g., the reverse complement of \"GTCA\" is \"TGAC\").\n",
    "\n",
    "**Given: A DNA string s of length at most 1000 bp**.\n",
    "\n",
    "**Return: The reverse complement sc of s.**"
   ]
  },
  {
   "cell_type": "markdown",
   "id": "1e0f5088",
   "metadata": {},
   "source": [
    "##### Sample Dataset\n",
    "AAAACCCGGT\n",
    "\n",
    "##### Sample Output\n",
    "ACCGGGTTTT"
   ]
  },
  {
   "cell_type": "markdown",
   "id": "751b8ca8",
   "metadata": {},
   "source": [
    "#### Solution"
   ]
  },
  {
   "cell_type": "code",
   "execution_count": 46,
   "id": "e118cdee",
   "metadata": {},
   "outputs": [
    {
     "name": "stdout",
     "output_type": "stream",
     "text": [
      "ACCGGGTTTT\n"
     ]
    }
   ],
   "source": [
    "sample = \"AAAACCCGGT\"\n",
    "complement_template = {'A': 'T', 'C': 'G', 'G': 'C', 'T': 'A'}\n",
    "\n",
    "#the list comprehension below reverses the sample, and returns the complement of each nucleotide\n",
    "reverse_complement = ''.join([complement_template[code] for code in reversed(sample)])\n",
    "\n",
    "print(reverse_complement)"
   ]
  },
  {
   "cell_type": "code",
   "execution_count": null,
   "id": "038e3cb5",
   "metadata": {},
   "outputs": [],
   "source": []
  },
  {
   "cell_type": "markdown",
   "id": "347fd724",
   "metadata": {},
   "source": [
    "## Computing GC Content\n",
    "### Problem\n",
    "The GC-content of a DNA string is given by the percentage of symbols in the string that are 'C' or 'G'. For example, the GC-content of \"AGCTATAG\" is 37.5%. Note that the reverse complement of any DNA string has the same GC-content.\n",
    "\n",
    "DNA strings must be labeled when they are consolidated into a database. A commonly used method of string labeling is called FASTA format. In this format, the string is introduced by a line that begins with '>', followed by some labeling information. Subsequent lines contain the string itself; the first line to begin with '>' indicates the label of the next string.\n",
    "\n",
    "In Rosalind's implementation, a string in FASTA format will be labeled by the ID \"Rosalind_xxxx\", where \"xxxx\" denotes a four-digit code between 0000 and 9999.\n",
    "\n",
    "**Given: At most 10 DNA strings in FASTA format (of length at most 1 kbp each)**.\n",
    "\n",
    "**Return: The ID of the string having the highest GC-content, followed by the GC-content of that string. Rosalind allows for a default error of 0.001 in all decimal answers unless otherwise stated; please see the note on absolute error below**"
   ]
  },
  {
   "cell_type": "markdown",
   "id": "77f25ef4",
   "metadata": {},
   "source": [
    "##### Sample Dataset\n",
    ">Rosalind_6404\n",
    "CCTGCGGAAGATCGGCACTAGAATAGCCAGAACCGTTTCTCTGAGGCTTCCGGCCTTCCC\n",
    "TCCCACTAATAATTCTGAGG\n",
    ">Rosalind_5959\n",
    "CCATCGGTAGCGCATCCTTAGTCCAATTAAGTCCCTATCCAGGCGCTCCGCCGAAGGTCT\n",
    "ATATCCATTTGTCAGCAGACACGC\n",
    ">Rosalind_0808\n",
    "CCACCCTCGTGGTATGGCTAGGCATTCAGGAACCGGAGAACGCTTCAGACCAGCCCGGAC\n",
    "TGGGAACCTGCGGGCAGTAGGTGGAAT\n",
    "\n",
    "##### Sample Output\n",
    "Rosalind_0808\n",
    "60.919540"
   ]
  },
  {
   "cell_type": "markdown",
   "id": "24749998",
   "metadata": {},
   "source": [
    "#### Solution"
   ]
  },
  {
   "cell_type": "code",
   "execution_count": 58,
   "id": "5760360a",
   "metadata": {},
   "outputs": [
    {
     "name": "stdout",
     "output_type": "stream",
     "text": [
      "CCTGCGGAAGATCGGCACTAGAATAGCCAGAACCGTTTCTCTGAGGCTTCCGGCCTTCCCTCCCACTAATAATTCTGAGG\n",
      "CCATCGGTAGCGCATCCTTAGTCCAATTAAGTCCCTATCCAGGCGCTCCGCCGAAGGTCTATATCCATTTGTCAGCAGACACGC\n",
      "CCACCCTCGTGGTATGGCTAGGCATTCAGGAACCGGAGAACGCTTCAGACCAGCCCGGACTGGGAACCTGCGGGCAGTAGGTGGAAT\n"
     ]
    }
   ],
   "source": [
    "sample_dataset={'Rosalind_6404':'CCTGCGGAAGATCGGCACTAGAATAGCCAGAACCGTTTCTCTGAGGCTTCCGGCCTTCCCTCCCACTAATAATTCTGAGG',\n",
    "                'Rosalind_5959':'CCATCGGTAGCGCATCCTTAGTCCAATTAAGTCCCTATCCAGGCGCTCCGCCGAAGGTCTATATCCATTTGTCAGCAGACACGC',\n",
    "                'Rosalind_0808':'CCACCCTCGTGGTATGGCTAGGCATTCAGGAACCGGAGAACGCTTCAGACCAGCCCGGACTGGGAACCTGCGGGCAGTAGGTGGAAT'}\n",
    "\n",
    "keys=sample_dataset.keys()\n",
    "for value in keys:\n",
    "    sample_dataset[value]"
   ]
  },
  {
   "cell_type": "code",
   "execution_count": 56,
   "id": "209b0f00",
   "metadata": {},
   "outputs": [
    {
     "data": {
      "text/plain": [
       "3"
      ]
     },
     "execution_count": 56,
     "metadata": {},
     "output_type": "execute_result"
    }
   ],
   "source": [
    "g"
   ]
  },
  {
   "cell_type": "markdown",
   "id": "af54d543",
   "metadata": {},
   "source": [
    "### Mendel's First law"
   ]
  },
  {
   "cell_type": "code",
   "execution_count": 4,
   "id": "dbf84947",
   "metadata": {},
   "outputs": [],
   "source": [
    "#USING ![name](https)"
   ]
  },
  {
   "cell_type": "markdown",
   "id": "b444e94e",
   "metadata": {},
   "source": [
    "![Mendel](https://rosalind.info/media/problems/iprb/balls_tree.png)"
   ]
  },
  {
   "cell_type": "code",
   "execution_count": null,
   "id": "c78fcd46",
   "metadata": {},
   "outputs": [],
   "source": [
    "#using html tag <img src ='https' style='height: 300px' />"
   ]
  },
  {
   "cell_type": "markdown",
   "id": "a114867b",
   "metadata": {},
   "source": [
    "<img src= \"https://rosalind.info/media/problems/iprb/balls_tree.png\" style =\"height: 200px\"/>"
   ]
  },
  {
   "cell_type": "markdown",
   "id": "97e9e91b",
   "metadata": {},
   "source": [
    "### Problem\n",
    "Given: Three positive integers k, m, and n, representing a population containing k+m+n organisms: k individuals \n",
    "are homozygous dominant for a factor, m are heterozygous, and n are homozygous recessive.\n",
    "\n",
    "<br/> Return: The probability that two randomly selected mating organisms will produce an individual possessing a dominant allele (and thus displaying the dominant phenotype). \n",
    "<br/> Assume that any two organisms can mate."
   ]
  },
  {
   "cell_type": "markdown",
   "id": "4326f944",
   "metadata": {},
   "source": [
    "#### Solution"
   ]
  },
  {
   "cell_type": "code",
   "execution_count": 1,
   "id": "d9e503cd",
   "metadata": {},
   "outputs": [],
   "source": [
    "def probability (k,m,n):\n",
    "    summation=k+m+n\n",
    "    pr_k=k/summation\n",
    "    pr_m=m/summation\n",
    "    pr_n=n/summation\n",
    "    \n",
    "    pr_k_k=pr_k * ((k-1)/(summation-1))*1\n",
    "    pr_k_m=pr_k * ((m)/(summation-1))*1\n",
    "    pr_k_n=pr_k * ((n)/(summation-1))*1\n",
    "    \n",
    "    pr_m_m=pr_m * ((m-1)/(summation-1))*.75\n",
    "    pr_m_k=pr_m * ((k)/(summation-1))*1\n",
    "    pr_m_n=pr_m * ((n)/(summation-1))*.5\n",
    "    \n",
    "    pr_n_n=pr_n * ((n-1)/(summation-1))*0\n",
    "    pr_n_m=pr_n * ((m)/(summation-1))*.5\n",
    "    pr_n_k=pr_n * ((k)/(summation-1))*1\n",
    "    \n",
    "    \n",
    "    answer=pr_k_k + pr_k_m + pr_k_n + pr_m_m + pr_m_k + pr_m_n + pr_n_n + pr_n_m + pr_n_k\n",
    "    return answer"
   ]
  },
  {
   "cell_type": "code",
   "execution_count": 30,
   "id": "11706e2a",
   "metadata": {},
   "outputs": [
    {
     "data": {
      "text/plain": [
       "0.7833333333333333"
      ]
     },
     "execution_count": 30,
     "metadata": {},
     "output_type": "execute_result"
    }
   ],
   "source": [
    "probability(2,2,2)"
   ]
  },
  {
   "cell_type": "markdown",
   "id": "2774c3e0",
   "metadata": {},
   "source": [
    "#### Test data set"
   ]
  },
  {
   "cell_type": "code",
   "execution_count": 35,
   "id": "9e37c164",
   "metadata": {},
   "outputs": [
    {
     "data": {
      "text/plain": [
       "0.7608408249603387"
      ]
     },
     "execution_count": 35,
     "metadata": {},
     "output_type": "execute_result"
    }
   ],
   "source": [
    "probability(22,19,21)"
   ]
  },
  {
   "cell_type": "code",
   "execution_count": 31,
   "id": "decfaeac",
   "metadata": {},
   "outputs": [],
   "source": [
    "import requests\n",
    "\n",
    "f=requests.get('https://rosalind.info/problems/iprb/dataset/')\n",
    "with open ('probability.txt','wb+') as file:\n",
    "    file.write(f.content)"
   ]
  }
 ],
 "metadata": {
  "kernelspec": {
   "display_name": "Python 3 (ipykernel)",
   "language": "python",
   "name": "python3"
  },
  "language_info": {
   "codemirror_mode": {
    "name": "ipython",
    "version": 3
   },
   "file_extension": ".py",
   "mimetype": "text/x-python",
   "name": "python",
   "nbconvert_exporter": "python",
   "pygments_lexer": "ipython3",
   "version": "3.9.13"
  }
 },
 "nbformat": 4,
 "nbformat_minor": 5
}
